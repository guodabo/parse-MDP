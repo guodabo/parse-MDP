{
 "cells": [
  {
   "cell_type": "markdown",
   "metadata": {
    "id": "252762ABA1604BD18D3A4A7807788382",
    "jupyter": {},
    "mdEditEnable": true,
    "slideshow": {
     "slide_type": "slide"
    },
    "tags": []
   },
   "source": [
    "# Dyna-Q算法\n",
    "## 简介\n",
    "\n",
    "在强化学习中，模型通常指的是对环境的状态转移函数和奖励函数进行建模。根据是否具有环境的模型，强化学习方法分为两种：基于模型的强化学习（Model-based Reinforcement Learning）和无模型的强化学习（Model-free Reinforcement Learning）。在无模型的强化学习中，根据与环境交互采样到的数据直接进行策略提升或者价值估计。Sarsa和Q-learning算法便是两种无模型的强化学习方法，以及在之后的课程中介绍的方法也大多都是无模型的强化学习方法。在基于模型的强化学习中，模型可以是事先知道的，也可以是根据与环境交互采样到的数据学习得到的，然后用这个模型帮助策略提升或者价值估计。策略迭代和价值迭代是基于模型的强化学习方法，在这两种算法中环境模型是事先已知的。而本节课程中即将介绍的Dyna-Q算法也是非常基础的基于模型的强化学习方法，它的环境模型是通过估计得到。\n",
    "\n",
    "强化学习算法的一个重要的评价指标是算法收敛后的策略在初始状态的期望回报，而另一个同样重要的评价指标是样本复杂度，即算法达到收敛结果需要在环境中采样的样本数量。而基于环境的强化学习方法由于具有一个环境模型，可以额外和模型进行交互，对真实环境中样本的需求量就会减少，所以通常会比无模型的强化学习方法具有更低的样本复杂度。另一方面，环境模型可能并不准确，不能完全代替真实环境，所以基于环境的强化学习方法收敛后策略的期望回报可能不如无模型强化学习方法。\n",
    "\n",
    "<img src=\"https://staticcdn.boyuai.com/user-assets/358/CM2gRtzqJKbAhh9MXKqsmn/qh3ccm4a0l.png!png\" width = \"400\" height = \"400\" align=center />\n",
    " \n",
    "<center>基于模型的强化学习方法与无模型的强化学习 </center>"
   ]
  },
  {
   "cell_type": "markdown",
   "metadata": {
    "id": "39CE47F3D94C424A9EEACC1A2DF8F125",
    "jupyter": {},
    "mdEditEnable": true,
    "slideshow": {
     "slide_type": "slide"
    },
    "tags": []
   },
   "source": [
    "## Dyna-Q\n",
    "Dyna-Q算法是一个经典的基于模型的强化学习算法。Dyna-Q使用一种叫做Q-planning的方法来用模型生成一些模拟数据，然后用模拟数据和真实数据一起改进策略。Q-planning每次选取一个曾经访问过的状态$s$，采取一个曾经在该状态下执行过的动作$a$，通过模型得到转移后的状态$s'$以及奖励$r$，并根据这个模拟数据用Q-learning的更新方式来更新动作价值函数。下面我们来看一下Dyna-Q的具体算法。\n",
    "\n",
    "- 初始化$Q(s,a)$，初始化模型$M(s,a)$\n",
    "- 不断进行$N$次如下循环(每个循环是一条序列)：\n",
    "\t- 得到初始状态$s$\n",
    "\t- 不断进行如下循环直至终止状态（每个循环是序列中的一步）:\n",
    "\t\t- 用$\\epsilon$-greedy策略根据$Q$选择当前状态$s$下的动作$a$\n",
    "\t\t- 得到环境反馈的$r, s'$\n",
    "\t\t- $Q(s,a) \\leftarrow Q(s,a) + \\alpha[r + \\gamma \\max_{a'} Q(s',a')-Q(s,a)]$\n",
    "\t\t- $M(s,a) \\leftarrow r, s'$\n",
    "\t\t- 重复以下循环$n$次（每个循环是一次Q-planning）：\n",
    "\t\t\t- 随机选择一个曾经访问过的状态$s_m$ \n",
    "\t\t\t- 采取一个曾经在状态$s_m$下执行过的动作$a_m$\n",
    "\t\t\t- $r_m,s'_m \\leftarrow M(s_m, a_m)$\n",
    "\t\t\t- $Q(s_m,a_m) \\leftarrow Q(s_m,a_m) + \\alpha[r_m + \\gamma \\max_{a'} Q(s'_m,a')-Q(s_m,a_m)]$\n",
    "\t\t- $s\\leftarrow s'$\n",
    "\n",
    "我们看到，在每次与环境进行交互做一次Q-learning之后，Dyna-Q会做多次Q-planning。其中Q-planning的次数$n$是一个事先可以选择的超参数，当其为0时就是普通的Q-learning。"
   ]
  },
  {
   "cell_type": "markdown",
   "metadata": {
    "id": "B64503AE68004412862ABB2F365ADB29",
    "jupyter": {},
    "mdEditEnable": true,
    "slideshow": {
     "slide_type": "slide"
    },
    "tags": []
   },
   "source": [
    "## Dyna-Q代码实践\n",
    "我们之前在Cliff Walking环境中运行过Q-learning算法，我们现在也在这个环境中尝试Dyna-Q，以方便比较。 首先仍是Cliff Walking的环境代码，这和上一章节一模一样。"
   ]
  },
  {
   "cell_type": "code",
   "execution_count": 4,
   "metadata": {
    "colab": {},
    "colab_type": "code",
    "id": "0tV7ItIuGYCz",
    "jupyter": {},
    "scrolled": false,
    "slideshow": {
     "slide_type": "slide"
    },
    "tags": []
   },
   "outputs": [],
   "source": [
    "import matplotlib.pyplot as plt\n",
    "import numpy as np\n",
    "from tqdm import tqdm\n",
    "import random\n",
    "import time\n",
    "\n",
    "class CliffWalkingEnv:\n",
    "    def __init__(self, ncol, nrow):\n",
    "        self.nrow = nrow       \n",
    "        self.ncol = ncol\n",
    "        self.x = 0 # 记录当前智能体位置的横坐标\n",
    "        self.y = self.nrow - 1 # 记录当前智能体位置的纵坐标\n",
    "\n",
    "    def step(self, action): # 外部调用这个函数来让当前位置改变\n",
    "        change = [[0, -1], [0, 1], [-1, 0], [1, 0]] # 4 种动作, 0:上, 1:下, 2:左, 3:右。原点(0,0)定义在左上角\n",
    "        self.x = min(self.ncol - 1, max(0, self.x + change[action][0]))\n",
    "        self.y = min(self.nrow - 1, max(0, self.y + change[action][1]))\n",
    "        next_state = self.y * self.ncol + self.x\n",
    "        reward = -1\n",
    "        done = False\n",
    "        if self.y == self.nrow - 1 and self.x > 0: # 下一个位置在悬崖或者终点\n",
    "            done = True\n",
    "            if self.x != self.ncol - 1:\n",
    "                reward = -100\n",
    "        return next_state, reward, done\n",
    "\n",
    "    def reset(self): # 回归初始状态，起点在左上角\n",
    "        self.x = 0\n",
    "        self.y = self.nrow - 1\n",
    "        return self.y * self.ncol + self.x"
   ]
  },
  {
   "cell_type": "markdown",
   "metadata": {
    "id": "596274C0897642D3B58DF670CA4E22BF",
    "jupyter": {},
    "mdEditEnable": false,
    "slideshow": {
     "slide_type": "slide"
    },
    "tags": []
   },
   "source": [
    "然后我们来看一下Dyna-Q的主要代码。主要在Q-learning的代码上进行简单修改。最主要的部分是加入了环境模型model，我们用一个字典表示，每次在真实环境中新收集到数据，把它加到字典里。根据字典的性质，若该数据本身存在字典中，便不会再一次添加。在Dyna-Q的更新中，进行完Q-learning后，会立即进行Q-planning。"
   ]
  },
  {
   "cell_type": "code",
   "execution_count": 5,
   "metadata": {
    "id": "E3F4F32D077C4445B5F082341E8B162E",
    "jupyter": {},
    "notebookId": "5f8f328146ba5e00307828de",
    "scrolled": false,
    "slideshow": {
     "slide_type": "slide"
    },
    "tags": []
   },
   "outputs": [],
   "source": [
    "class DynaQ:\n",
    "    \"\"\" Dyna-Q算法 \"\"\"\n",
    "    def __init__(self, ncol, nrow, epsilon, alpha, gamma, n_planning, n_action=4):\n",
    "        self.Q_table = np.zeros([nrow * ncol, n_action]) # 初始化Q(s,a)表格\n",
    "        self.n_action = n_action # 动作个数\n",
    "        self.alpha = alpha # 学习率\n",
    "        self.gamma = gamma # 折扣因子\n",
    "        self.epsilon = epsilon # epsilon-greedy策略中的参数\n",
    "        \n",
    "        self.n_planning = n_planning\n",
    "        self.model = dict()\n",
    "        \n",
    "    def take_action(self, state): #选取下一步的操作\n",
    "        if np.random.random() < self.epsilon:\n",
    "            action = np.random.randint(self.n_action)\n",
    "        else:\n",
    "            action = np.argmax(self.Q_table[state])\n",
    "        return action\n",
    "\n",
    "    def q_learning(self, s0, a0, r, s1):\n",
    "        td_error = r + self.gamma * self.Q_table[s1].max() - self.Q_table[s0, a0]\n",
    "        self.Q_table[s0, a0] += self.alpha * td_error\n",
    "            \n",
    "    def update(self, s0, a0, r, s1):\n",
    "        self.q_learning(s0, a0, r, s1)\n",
    "        self.model[(s0, a0)] = r, s1 # 将数据添加到模型中\n",
    "        for _ in range(self.n_planning): # Q-planning循环\n",
    "            (s, a), (r, s_) = random.choice(list(self.model.items())) #随机选择曾经遇到过的状态动作对\n",
    "            self.q_learning(s, a, r, s_) "
   ]
  },
  {
   "cell_type": "markdown",
   "metadata": {
    "id": "CF3BDDFF976546C180C31019474ABA49",
    "jupyter": {},
    "mdEditEnable": false,
    "slideshow": {
     "slide_type": "slide"
    },
    "tags": []
   },
   "source": [
    "下面是Dyna-Q算法在Cliff Walking环境中的训练函数，它的输入参数是Q-planning的步数。"
   ]
  },
  {
   "cell_type": "code",
   "execution_count": 6,
   "metadata": {
    "id": "99C696FB2D964AB0BD23D48E750FB809",
    "jupyter": {},
    "notebookId": "5f8f328146ba5e00307828de",
    "scrolled": false,
    "slideshow": {
     "slide_type": "slide"
    },
    "tags": []
   },
   "outputs": [],
   "source": [
    "def DynaQ_CliffWalking(n_planning):\n",
    "    ncol = 12\n",
    "    nrow = 4\n",
    "    env = CliffWalkingEnv(ncol, nrow)\n",
    "    epsilon = 0.01\n",
    "    alpha = 0.1\n",
    "    gamma = 0.9\n",
    "    agent = DynaQ(ncol, nrow, epsilon, alpha, gamma, n_planning)\n",
    "    num_episodes = 300 # 智能体在环境中运行多少条序列\n",
    "\n",
    "    return_list = [] # 记录每一条序列的回报\n",
    "    for i in range(10): # 显示10个进度条\n",
    "        with tqdm(total=int(num_episodes/10), desc='Iteration %d' % i) as pbar: # tqdm的进度条功能\n",
    "            for i_episode in range(int(num_episodes/10)): # 每个进度条的序列数\n",
    "                episode_return = 0\n",
    "                state = env.reset()\n",
    "                done = False\n",
    "                while not done: \n",
    "                    action = agent.take_action(state)\n",
    "                    next_state, reward, done = env.step(action)\n",
    "                    episode_return += reward # 这里回报的计算不进行折扣因子衰减\n",
    "                    agent.update(state, action, reward, next_state)\n",
    "                    state = next_state\n",
    "                return_list.append(episode_return) \n",
    "                if (i_episode+1) % 10 == 0: # 每10条序列打印一下这10条序列的平均回报\n",
    "                    pbar.set_postfix({'episode': '%d' % (num_episodes / 10 * i + i_episode+1), 'return': '%.3f' % np.mean(return_list[-10:])})\n",
    "                pbar.update(1)\n",
    "    return return_list"
   ]
  },
  {
   "cell_type": "markdown",
   "metadata": {
    "id": "F02E9060CC6D47D5890A8BFDC616AC18",
    "jupyter": {},
    "mdEditEnable": true,
    "slideshow": {
     "slide_type": "slide"
    },
    "tags": []
   },
   "source": [
    "可视化结果，通过调整参数，我们可以观察Q-planning步数对结果的影响。若Q-planning步数为0，则退化到Q-learning。"
   ]
  },
  {
   "cell_type": "code",
   "execution_count": 7,
   "metadata": {
    "id": "0545961383E442B69B44DA33F71CC58B",
    "jupyter": {},
    "notebookId": "5f8f328146ba5e00307828de",
    "scrolled": false,
    "slideshow": {
     "slide_type": "slide"
    },
    "tags": []
   },
   "outputs": [
    {
     "name": "stdout",
     "output_type": "stream",
     "text": [
      "Q-planning步数为：0\n"
     ]
    },
    {
     "name": "stderr",
     "output_type": "stream",
     "text": [
      "Iteration 0: 100%|███████████████████████████████████████| 30/30 [00:00<00:00, 699.49it/s, episode=30, return=-138.400]\n",
      "Iteration 1: 100%|███████████████████████████████████████| 30/30 [00:00<00:00, 1029.99it/s, episode=60, return=-64.100]\n",
      "Iteration 2: 100%|███████████████████████████████████████| 30/30 [00:00<00:00, 1504.70it/s, episode=90, return=-46.000]\n",
      "Iteration 3: 100%|██████████████████████████████████████| 30/30 [00:00<00:00, 1671.90it/s, episode=120, return=-38.000]\n",
      "Iteration 4: 100%|██████████████████████████████████████| 30/30 [00:00<00:00, 2005.31it/s, episode=150, return=-28.600]\n",
      "Iteration 5: 100%|██████████████████████████████████████| 30/30 [00:00<00:00, 2148.76it/s, episode=180, return=-25.300]\n",
      "Iteration 6: 100%|██████████████████████████████████████| 30/30 [00:00<00:00, 2142.28it/s, episode=210, return=-23.600]\n",
      "Iteration 7: 100%|██████████████████████████████████████| 30/30 [00:00<00:00, 2506.01it/s, episode=240, return=-20.100]\n",
      "Iteration 8: 100%|██████████████████████████████████████| 30/30 [00:00<00:00, 3008.61it/s, episode=270, return=-17.100]\n",
      "Iteration 9: 100%|██████████████████████████████████████| 30/30 [00:00<00:00, 2735.77it/s, episode=300, return=-16.500]\n"
     ]
    },
    {
     "name": "stdout",
     "output_type": "stream",
     "text": [
      "Q-planning步数为：2\n"
     ]
    },
    {
     "name": "stderr",
     "output_type": "stream",
     "text": [
      "Iteration 0: 100%|████████████████████████████████████████| 30/30 [00:00<00:00, 518.80it/s, episode=30, return=-53.800]\n",
      "Iteration 1: 100%|████████████████████████████████████████| 30/30 [00:00<00:00, 752.07it/s, episode=60, return=-37.100]\n",
      "Iteration 2: 100%|███████████████████████████████████████| 30/30 [00:00<00:00, 1156.28it/s, episode=90, return=-23.600]\n",
      "Iteration 3: 100%|██████████████████████████████████████| 30/30 [00:00<00:00, 1251.53it/s, episode=120, return=-18.500]\n",
      "Iteration 4: 100%|██████████████████████████████████████| 30/30 [00:00<00:00, 1305.88it/s, episode=150, return=-16.400]\n",
      "Iteration 5: 100%|██████████████████████████████████████| 30/30 [00:00<00:00, 1503.89it/s, episode=180, return=-16.400]\n",
      "Iteration 6: 100%|██████████████████████████████████████| 30/30 [00:00<00:00, 1580.53it/s, episode=210, return=-13.400]\n",
      "Iteration 7: 100%|██████████████████████████████████████| 30/30 [00:00<00:00, 1769.40it/s, episode=240, return=-13.200]\n",
      "Iteration 8: 100%|██████████████████████████████████████| 30/30 [00:00<00:00, 1583.97it/s, episode=270, return=-13.200]\n",
      "Iteration 9: 100%|██████████████████████████████████████| 30/30 [00:00<00:00, 1667.47it/s, episode=300, return=-13.500]\n"
     ]
    },
    {
     "name": "stdout",
     "output_type": "stream",
     "text": [
      "Q-planning步数为：20\n"
     ]
    },
    {
     "name": "stderr",
     "output_type": "stream",
     "text": [
      "Iteration 0: 100%|████████████████████████████████████████| 30/30 [00:00<00:00, 214.89it/s, episode=30, return=-18.500]\n",
      "Iteration 1: 100%|████████████████████████████████████████| 30/30 [00:00<00:00, 313.22it/s, episode=60, return=-13.600]\n",
      "Iteration 2: 100%|████████████████████████████████████████| 30/30 [00:00<00:00, 337.85it/s, episode=90, return=-13.000]\n",
      "Iteration 3: 100%|███████████████████████████████████████| 30/30 [00:00<00:00, 327.09it/s, episode=120, return=-13.500]\n",
      "Iteration 4: 100%|███████████████████████████████████████| 30/30 [00:00<00:00, 319.87it/s, episode=150, return=-13.500]\n",
      "Iteration 5: 100%|███████████████████████████████████████| 30/30 [00:00<00:00, 313.34it/s, episode=180, return=-13.000]\n",
      "Iteration 6: 100%|███████████████████████████████████████| 30/30 [00:00<00:00, 334.23it/s, episode=210, return=-22.000]\n",
      "Iteration 7: 100%|███████████████████████████████████████| 30/30 [00:00<00:00, 326.95it/s, episode=240, return=-23.200]\n",
      "Iteration 8: 100%|███████████████████████████████████████| 30/30 [00:00<00:00, 334.23it/s, episode=270, return=-13.000]\n",
      "Iteration 9: 100%|███████████████████████████████████████| 30/30 [00:00<00:00, 323.57it/s, episode=300, return=-13.400]\n"
     ]
    },
    {
     "data": {
      "image/png": "[encoded data removed]",
      "text/plain": [
       "<Figure size 432x288 with 1 Axes>"
      ]
     },
     "metadata": {
      "needs_background": "light"
     },
     "output_type": "display_data"
    }
   ],
   "source": [
    "np.random.seed(0)\n",
    "random.seed(0)\n",
    "n_planning_list = [0, 2, 20]\n",
    "for n_planning in n_planning_list:\n",
    "    print('Q-planning步数为：%d' % n_planning)\n",
    "    time.sleep(0.5)\n",
    "    return_list = DynaQ_CliffWalking(n_planning)\n",
    "    episodes_list = list(range(len(return_list)))\n",
    "    plt.plot(episodes_list, return_list, label=str(n_planning) + ' planning steps')\n",
    "plt.legend()\n",
    "plt.xlabel('Episodes')   \n",
    "plt.ylabel('Returns')  \n",
    "plt.title('Dyna-Q on {}'.format('Cliff Walking'))  \n",
    "plt.show()"
   ]
  },
  {
   "cell_type": "markdown",
   "metadata": {
    "id": "864D138088204785814DC77F48D4384F",
    "jupyter": {},
    "mdEditEnable": false,
    "slideshow": {
     "slide_type": "slide"
    },
    "tags": []
   },
   "source": [
    "可以明显地看出随着Q-planning步数的增多，Dyna-Q算法的收敛速度也随之变快。"
   ]
  },
  {
   "cell_type": "markdown",
   "metadata": {
    "id": "C2DDD532A22A459BA28A4FEF440D6FEC",
    "jupyter": {},
    "mdEditEnable": true,
    "slideshow": {
     "slide_type": "slide"
    },
    "tags": []
   },
   "source": [
    "## 总结\n",
    "我们学习了一个经典的基于模型的强化学习算法Dyna-Q，并且通过调整在Cliff Walking下的Q-planning步数，直观地看到了Q-planning步数对于收敛速度的影响。虽然我们发现基于模型的强化学习方法Dyna-Q在以上环境中获得了很好的效果，但这些环境比较简单，模型可以直接通过统计得到。如果环境比较复杂，例如状态是连续的，不再是离散的，如何学习一个比较准确的模型就变成了一个非常重大的挑战，这直接影响到基于模型的强化学习方法能否应用于这些环境获得比无模型的强化学习更好的效果。"
   ]
  }
 ],
 "metadata": {
  "kernelspec": {
   "display_name": "Python 3 (ipykernel)",
   "language": "python",
   "name": "python3"
  },
  "language_info": {
   "codemirror_mode": {
    "name": "ipython",
    "version": 3
   },
   "file_extension": ".py",
   "mimetype": "text/x-python",
   "name": "python",
   "nbconvert_exporter": "python",
   "pygments_lexer": "ipython3",
   "version": "3.8.5"
  }
 },
 "nbformat": 4,
 "nbformat_minor": 1
}
